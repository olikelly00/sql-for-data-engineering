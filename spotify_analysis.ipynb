{
 "cells": [
  {
   "cell_type": "code",
   "execution_count": 2,
   "metadata": {},
   "outputs": [],
   "source": [
    "%load_ext sql\n",
    "\n",
    "%sql postgresql+psycopg2://localhost:5432/intro_to_sql_for_analytics"
   ]
  },
  {
   "cell_type": "markdown",
   "metadata": {},
   "source": [
    "# Spotify Data Analysis - SQL & Data Exploration\n",
    "\n",
    "## Overview\n",
    "This Jupyter Notebook contains an analysis of Spotify data using SQL queries and data exploration techniques. It is designed to provide insights into music trends, artist popularity, and track features using structured queries and visualizations.\n",
    "\n",
    "## Contents\n",
    "- **SQL Queries**: Retrieving insights on artists, tracks, and genres\n",
    "- **Aggregations & Grouping**: Understanding trends in streaming data\n",
    "- **Joins & Subqueries**: Connecting multiple datasets for deeper insights\n",
    "- **Feature Analysis**: Investigating track attributes (e.g., tempo, energy, danceability)\n",
    "- **Intro to Performance Optimisation**: Improving query efficiency\n",
    "\n",
    "\n",
    "## How to Use This Notebook\n",
    "- Run each cell sequentially to execute SQL queries and analyses\n",
    "- Modify the queries to explore different aspects of the dataset\n",
    "- Leverage visualizations to identify patterns in music trends\n",
    "- Use it as a reference for working with structured data in SQL\n",
    "\n",
    "\n",
    "\n",
    "Data Columns:\n",
    "\n",
    "track_name\tartist_names\tartist_count\treleased_year\treleased_month\treleased_day\tin_spotify_playlists\tin_spotify_charts\tstreams\tin_apple_playlists\tkey\tmode\tdanceability_percent\tenergy_percent\tacousticness_percent\tliveness_percent\tbpm\tspeechiness_percent\n",
    "\n",
    "\n",
    "Find out the count of tracks which are present in more than 1000 Spotify playlists"
   ]
  },
  {
   "cell_type": "code",
   "execution_count": 3,
   "metadata": {},
   "outputs": [
    {
     "name": "stdout",
     "output_type": "stream",
     "text": [
      " * postgresql+psycopg2://localhost:5432/intro_to_sql_for_analytics\n",
      "1 rows affected.\n"
     ]
    },
    {
     "data": {
      "text/html": [
       "<table>\n",
       "    <tr>\n",
       "        <th>count</th>\n",
       "    </tr>\n",
       "    <tr>\n",
       "        <td>676</td>\n",
       "    </tr>\n",
       "</table>"
      ],
      "text/plain": [
       "[(676,)]"
      ]
     },
     "execution_count": 3,
     "metadata": {},
     "output_type": "execute_result"
    }
   ],
   "source": [
    "%%sql\n",
    "\n",
    "SELECT COUNT(track_name) FROM spotify_tracks\n",
    "WHERE in_spotify_playlists > 1000"
   ]
  },
  {
   "cell_type": "markdown",
   "metadata": {},
   "source": [
    "Find out the total sum of streams from the top 20 tracks (here “top” means the tracks who are present in the most Spotify charts)"
   ]
  },
  {
   "cell_type": "code",
   "execution_count": null,
   "metadata": {},
   "outputs": [
    {
     "name": "stdout",
     "output_type": "stream",
     "text": [
      " * postgresql+psycopg2://localhost:5432/intro_to_sql_for_analytics\n",
      "20 rows affected.\n"
     ]
    },
    {
     "data": {
      "text/html": [
       "<table>\n",
       "    <tr>\n",
       "        <th>streams</th>\n",
       "    </tr>\n",
       "    <tr>\n",
       "        <td>141381703</td>\n",
       "    </tr>\n",
       "    <tr>\n",
       "        <td>2513188493</td>\n",
       "    </tr>\n",
       "    <tr>\n",
       "        <td>1316855716</td>\n",
       "    </tr>\n",
       "    <tr>\n",
       "        <td>140003974</td>\n",
       "    </tr>\n",
       "    <tr>\n",
       "        <td>1297026226</td>\n",
       "    </tr>\n",
       "    <tr>\n",
       "        <td>30546883</td>\n",
       "    </tr>\n",
       "    <tr>\n",
       "        <td>127408954</td>\n",
       "    </tr>\n",
       "    <tr>\n",
       "        <td>800840817</td>\n",
       "    </tr>\n",
       "    <tr>\n",
       "        <td>387570742</td>\n",
       "    </tr>\n",
       "    <tr>\n",
       "        <td>183706234</td>\n",
       "    </tr>\n",
       "    <tr>\n",
       "        <td>843957510</td>\n",
       "    </tr>\n",
       "    <tr>\n",
       "        <td>115364561</td>\n",
       "    </tr>\n",
       "    <tr>\n",
       "        <td>1813673666</td>\n",
       "    </tr>\n",
       "    <tr>\n",
       "        <td>95217315</td>\n",
       "    </tr>\n",
       "    <tr>\n",
       "        <td>1109433169</td>\n",
       "    </tr>\n",
       "    <tr>\n",
       "        <td>65156199</td>\n",
       "    </tr>\n",
       "    <tr>\n",
       "        <td>2565529693</td>\n",
       "    </tr>\n",
       "    <tr>\n",
       "        <td>2808096550</td>\n",
       "    </tr>\n",
       "    <tr>\n",
       "        <td>22581161</td>\n",
       "    </tr>\n",
       "    <tr>\n",
       "        <td>899183384</td>\n",
       "    </tr>\n",
       "</table>"
      ],
      "text/plain": [
       "[(141381703,),\n",
       " (2513188493,),\n",
       " (1316855716,),\n",
       " (140003974,),\n",
       " (1297026226,),\n",
       " (30546883,),\n",
       " (127408954,),\n",
       " (800840817,),\n",
       " (387570742,),\n",
       " (183706234,),\n",
       " (843957510,),\n",
       " (115364561,),\n",
       " (1813673666,),\n",
       " (95217315,),\n",
       " (1109433169,),\n",
       " (65156199,),\n",
       " (2565529693,),\n",
       " (2808096550,),\n",
       " (22581161,),\n",
       " (899183384,)]"
      ]
     },
     "execution_count": 4,
     "metadata": {},
     "output_type": "execute_result"
    }
   ],
   "source": [
    "%%sql\n",
    "\n",
    "-- Step 1: How to find the number of streams for each track in the top 20\n",
    "\n",
    "\n",
    "SELECT streams\n",
    "FROM spotify_tracks\n",
    "ORDER BY in_spotify_charts DESC\n",
    "LIMIT 20\n",
    "\n"
   ]
  },
  {
   "cell_type": "code",
   "execution_count": null,
   "metadata": {},
   "outputs": [
    {
     "name": "stdout",
     "output_type": "stream",
     "text": [
      " * postgresql+psycopg2://localhost:5432/intro_to_sql_for_analytics\n",
      "1 rows affected.\n"
     ]
    },
    {
     "data": {
      "text/html": [
       "<table>\n",
       "    <tr>\n",
       "        <th>total_streams</th>\n",
       "    </tr>\n",
       "    <tr>\n",
       "        <td>17276722950</td>\n",
       "    </tr>\n",
       "</table>"
      ],
      "text/plain": [
       "[(Decimal('17276722950'),)]"
      ]
     },
     "execution_count": 5,
     "metadata": {},
     "output_type": "execute_result"
    }
   ],
   "source": [
    "%%sql\n",
    "\n",
    "-- Step 2: finding the total streams for all 20 tracks in the top 20\n",
    "\n",
    "SELECT SUM(top_songs.streams) AS total_streams \n",
    "FROM (\n",
    "SELECT * FROM spotify_tracks ORDER BY in_spotify_charts DESC LIMIT 20\n",
    ") top_songs;"
   ]
  },
  {
   "cell_type": "markdown",
   "metadata": {},
   "source": [
    "Find out the average BPM of all tracks"
   ]
  },
  {
   "cell_type": "code",
   "execution_count": 6,
   "metadata": {},
   "outputs": [
    {
     "name": "stdout",
     "output_type": "stream",
     "text": [
      " * postgresql+psycopg2://localhost:5432/intro_to_sql_for_analytics\n",
      "1 rows affected.\n"
     ]
    },
    {
     "data": {
      "text/html": [
       "<table>\n",
       "    <tr>\n",
       "        <th>average_bpm</th>\n",
       "    </tr>\n",
       "    <tr>\n",
       "        <td>122.54</td>\n",
       "    </tr>\n",
       "</table>"
      ],
      "text/plain": [
       "[(Decimal('122.54'),)]"
      ]
     },
     "execution_count": 6,
     "metadata": {},
     "output_type": "execute_result"
    }
   ],
   "source": [
    "%%sql\n",
    "\n",
    "SELECT ROUND(AVG(bpm), 2) as average_bpm FROM spotify_tracks\n"
   ]
  },
  {
   "cell_type": "markdown",
   "metadata": {},
   "source": [
    "Find out the average BPM of the top 20 tracks (here “top” means the tracks who are present in the most Spotify charts)\n"
   ]
  },
  {
   "cell_type": "code",
   "execution_count": 7,
   "metadata": {},
   "outputs": [
    {
     "name": "stdout",
     "output_type": "stream",
     "text": [
      " * postgresql+psycopg2://localhost:5432/intro_to_sql_for_analytics\n",
      "1 rows affected.\n"
     ]
    },
    {
     "data": {
      "text/html": [
       "<table>\n",
       "    <tr>\n",
       "        <th>average_bpm</th>\n",
       "    </tr>\n",
       "    <tr>\n",
       "        <td>123.7</td>\n",
       "    </tr>\n",
       "</table>"
      ],
      "text/plain": [
       "[(Decimal('123.7'),)]"
      ]
     },
     "execution_count": 7,
     "metadata": {},
     "output_type": "execute_result"
    }
   ],
   "source": [
    "%%sql\n",
    "\n",
    "SELECT ROUND(AVG(bpm), 1) AS average_bpm FROM (\n",
    "    SELECT * FROM spotify_tracks ORDER BY in_spotify_charts LIMIT 20\n",
    ") average_bpm;"
   ]
  },
  {
   "cell_type": "markdown",
   "metadata": {},
   "source": [
    "Find out the average BPM per release year. Do you notice any pattern?"
   ]
  },
  {
   "cell_type": "code",
   "execution_count": 13,
   "metadata": {},
   "outputs": [
    {
     "name": "stdout",
     "output_type": "stream",
     "text": [
      " * postgresql+psycopg2://localhost:5432/intro_to_sql_for_analytics\n",
      "10 rows affected.\n"
     ]
    },
    {
     "data": {
      "text/html": [
       "<table>\n",
       "    <tr>\n",
       "        <th>released_year</th>\n",
       "        <th>average_bpm_per_year</th>\n",
       "    </tr>\n",
       "    <tr>\n",
       "        <td>2023</td>\n",
       "        <td>124.06</td>\n",
       "    </tr>\n",
       "    <tr>\n",
       "        <td>2022</td>\n",
       "        <td>122.00</td>\n",
       "    </tr>\n",
       "    <tr>\n",
       "        <td>2021</td>\n",
       "        <td>125.83</td>\n",
       "    </tr>\n",
       "    <tr>\n",
       "        <td>2020</td>\n",
       "        <td>118.03</td>\n",
       "    </tr>\n",
       "    <tr>\n",
       "        <td>2019</td>\n",
       "        <td>118.36</td>\n",
       "    </tr>\n",
       "    <tr>\n",
       "        <td>2018</td>\n",
       "        <td>115.30</td>\n",
       "    </tr>\n",
       "    <tr>\n",
       "        <td>2017</td>\n",
       "        <td>119.00</td>\n",
       "    </tr>\n",
       "    <tr>\n",
       "        <td>2016</td>\n",
       "        <td>126.94</td>\n",
       "    </tr>\n",
       "    <tr>\n",
       "        <td>2015</td>\n",
       "        <td>127.36</td>\n",
       "    </tr>\n",
       "    <tr>\n",
       "        <td>2014</td>\n",
       "        <td>106.00</td>\n",
       "    </tr>\n",
       "</table>"
      ],
      "text/plain": [
       "[(2023, Decimal('124.06')),\n",
       " (2022, Decimal('122.00')),\n",
       " (2021, Decimal('125.83')),\n",
       " (2020, Decimal('118.03')),\n",
       " (2019, Decimal('118.36')),\n",
       " (2018, Decimal('115.30')),\n",
       " (2017, Decimal('119.00')),\n",
       " (2016, Decimal('126.94')),\n",
       " (2015, Decimal('127.36')),\n",
       " (2014, Decimal('106.00'))]"
      ]
     },
     "execution_count": 13,
     "metadata": {},
     "output_type": "execute_result"
    }
   ],
   "source": [
    "%%sql\n",
    "\n",
    "SELECT released_year, ROUND(AVG(bpm), 2) AS average_bpm_per_year FROM spotify_tracks GROUP BY released_year ORDER BY released_year DESC LIMIT 10;"
   ]
  },
  {
   "cell_type": "markdown",
   "metadata": {},
   "source": [
    "Find out which are the top 5 years having the highest total number of streams from “lyrical” songs only (these are tracks with a ‘speechless’ percent higher than 15)"
   ]
  },
  {
   "cell_type": "code",
   "execution_count": 9,
   "metadata": {},
   "outputs": [
    {
     "name": "stdout",
     "output_type": "stream",
     "text": [
      " * postgresql+psycopg2://localhost:5432/intro_to_sql_for_analytics\n",
      "5 rows affected.\n"
     ]
    },
    {
     "data": {
      "text/html": [
       "<table>\n",
       "    <tr>\n",
       "        <th>released_year</th>\n",
       "        <th>total_streams_from_lyrical_songs</th>\n",
       "    </tr>\n",
       "    <tr>\n",
       "        <td>2022</td>\n",
       "        <td>21868242081</td>\n",
       "    </tr>\n",
       "    <tr>\n",
       "        <td>2021</td>\n",
       "        <td>17973512774</td>\n",
       "    </tr>\n",
       "    <tr>\n",
       "        <td>2002</td>\n",
       "        <td>4728427653</td>\n",
       "    </tr>\n",
       "    <tr>\n",
       "        <td>2023</td>\n",
       "        <td>4702858600</td>\n",
       "    </tr>\n",
       "    <tr>\n",
       "        <td>2019</td>\n",
       "        <td>3410848778</td>\n",
       "    </tr>\n",
       "</table>"
      ],
      "text/plain": [
       "[(2022, Decimal('21868242081')),\n",
       " (2021, Decimal('17973512774')),\n",
       " (2002, Decimal('4728427653')),\n",
       " (2023, Decimal('4702858600')),\n",
       " (2019, Decimal('3410848778'))]"
      ]
     },
     "execution_count": 9,
     "metadata": {},
     "output_type": "execute_result"
    }
   ],
   "source": [
    "%%sql\n",
    "\n",
    "SELECT released_year, SUM(streams)\n",
    "AS total_streams_from_lyrical_songs \n",
    "FROM spotify_tracks \n",
    "WHERE speechiness_percent > 15 \n",
    "GROUP BY released_year \n",
    "ORDER BY total_streams_from_lyrical_songs  \n",
    "DESC LIMIT 5"
   ]
  },
  {
   "cell_type": "markdown",
   "metadata": {},
   "source": [
    "List all tracks released in the year where most tracks where released"
   ]
  },
  {
   "cell_type": "code",
   "execution_count": 11,
   "metadata": {},
   "outputs": [
    {
     "name": "stdout",
     "output_type": "stream",
     "text": [
      " * postgresql+psycopg2://localhost:5432/intro_to_sql_for_analytics\n",
      "10 rows affected.\n"
     ]
    },
    {
     "data": {
      "text/html": [
       "<table>\n",
       "    <tr>\n",
       "        <th>track_name</th>\n",
       "        <th>released_year</th>\n",
       "    </tr>\n",
       "    <tr>\n",
       "        <td>As It Was</td>\n",
       "        <td>2022</td>\n",
       "    </tr>\n",
       "    <tr>\n",
       "        <td>Kill Bill</td>\n",
       "        <td>2022</td>\n",
       "    </tr>\n",
       "    <tr>\n",
       "        <td>Calm Down (with Selena Gomez)</td>\n",
       "        <td>2022</td>\n",
       "    </tr>\n",
       "    <tr>\n",
       "        <td>Creepin&#x27;</td>\n",
       "        <td>2022</td>\n",
       "    </tr>\n",
       "    <tr>\n",
       "        <td>Anti-Hero</td>\n",
       "        <td>2022</td>\n",
       "    </tr>\n",
       "    <tr>\n",
       "        <td>I&#x27;m Good (Blue)</td>\n",
       "        <td>2022</td>\n",
       "    </tr>\n",
       "    <tr>\n",
       "        <td>I Ain&#x27;t Worried</td>\n",
       "        <td>2022</td>\n",
       "    </tr>\n",
       "    <tr>\n",
       "        <td>O.O</td>\n",
       "        <td>2022</td>\n",
       "    </tr>\n",
       "    <tr>\n",
       "        <td>La Bachata</td>\n",
       "        <td>2022</td>\n",
       "    </tr>\n",
       "    <tr>\n",
       "        <td>Left and Right (Feat. Jung Kook of BTS)</td>\n",
       "        <td>2022</td>\n",
       "    </tr>\n",
       "</table>"
      ],
      "text/plain": [
       "[('As It Was', 2022),\n",
       " ('Kill Bill', 2022),\n",
       " ('Calm Down (with Selena Gomez)', 2022),\n",
       " (\"Creepin'\", 2022),\n",
       " ('Anti-Hero', 2022),\n",
       " (\"I'm Good (Blue)\", 2022),\n",
       " (\"I Ain't Worried\", 2022),\n",
       " ('O.O', 2022),\n",
       " ('La Bachata', 2022),\n",
       " ('Left and Right (Feat. Jung Kook of BTS)', 2022)]"
      ]
     },
     "execution_count": 11,
     "metadata": {},
     "output_type": "execute_result"
    }
   ],
   "source": [
    "%%sql\n",
    "\n",
    "SELECT track_name, released_year\n",
    "FROM spotify_tracks\n",
    "WHERE released_year = (\n",
    "    -- Get the released year\n",
    "    SELECT released_year\n",
    "    FROM (\n",
    "        -- Get the number of songs per year\n",
    "        SELECT released_year \n",
    "        FROM spotify_tracks\n",
    "        GROUP BY released_year\n",
    "        ORDER BY COUNT(*) DESC\n",
    "        LIMIT 1\n",
    "    ) subquery\n",
    ")\n",
    "LIMIT 10"
   ]
  },
  {
   "cell_type": "code",
   "execution_count": null,
   "metadata": {},
   "outputs": [
    {
     "name": "stdout",
     "output_type": "stream",
     "text": [
      " * postgresql+psycopg2://localhost:5432/intro_to_sql_for_analytics\n",
      "5 rows affected.\n"
     ]
    },
    {
     "data": {
      "text/html": [
       "<table>\n",
       "    <tr>\n",
       "        <th>QUERY PLAN</th>\n",
       "    </tr>\n",
       "    <tr>\n",
       "        <td>Seq Scan on spotify_tracks  (cost=0.00..30.91 rows=696 width=115) (actual time=0.007..0.126 rows=696 loops=1)</td>\n",
       "    </tr>\n",
       "    <tr>\n",
       "        <td>&nbsp;&nbsp;Filter: (released_year &gt; 2020)</td>\n",
       "    </tr>\n",
       "    <tr>\n",
       "        <td>&nbsp;&nbsp;Rows Removed by Filter: 257</td>\n",
       "    </tr>\n",
       "    <tr>\n",
       "        <td>Planning Time: 0.130 ms</td>\n",
       "    </tr>\n",
       "    <tr>\n",
       "        <td>Execution Time: 0.168 ms</td>\n",
       "    </tr>\n",
       "</table>"
      ],
      "text/plain": [
       "[('Seq Scan on spotify_tracks  (cost=0.00..30.91 rows=696 width=115) (actual time=0.007..0.126 rows=696 loops=1)',),\n",
       " ('  Filter: (released_year > 2020)',),\n",
       " ('  Rows Removed by Filter: 257',),\n",
       " ('Planning Time: 0.130 ms',),\n",
       " ('Execution Time: 0.168 ms',)]"
      ]
     },
     "execution_count": 12,
     "metadata": {},
     "output_type": "execute_result"
    }
   ],
   "source": [
    "%%sql\n",
    "\n",
    "-- How to get insights on the performance of a SQL query: use the explain analyze keywords at start of query\n",
    "\n",
    "explain analyze select * from spotify_tracks where released_year > 2020"
   ]
  }
 ],
 "metadata": {
  "kernelspec": {
   "display_name": "sql_for_data_venv",
   "language": "python",
   "name": "python3"
  },
  "language_info": {
   "codemirror_mode": {
    "name": "ipython",
    "version": 3
   },
   "file_extension": ".py",
   "mimetype": "text/x-python",
   "name": "python",
   "nbconvert_exporter": "python",
   "pygments_lexer": "ipython3",
   "version": "3.11.2"
  }
 },
 "nbformat": 4,
 "nbformat_minor": 2
}
