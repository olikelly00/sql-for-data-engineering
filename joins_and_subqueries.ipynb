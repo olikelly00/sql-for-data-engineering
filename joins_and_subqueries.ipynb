{
 "cells": [
  {
   "cell_type": "markdown",
   "metadata": {},
   "source": [
    "# Joins and Subqueries - SQL Notebook\n",
    "\n",
    "## Overview\n",
    "This Jupyter Notebook contains an exploration of SQL joins and subqueries, providing practical examples and explanations. It is designed to help learners understand how to retrieve and manipulate data across multiple tables efficiently.\n",
    "\n",
    "## Contents\n",
    "- **SQL Joins**: Inner, Left, Right, and Full Joins\n",
    "- **Subqueries**: Nested queries for filtering, aggregation, and transformation\n",
    "- **Use Cases**: Practical scenarios demonstrating when to use joins vs. subqueries\n",
    "- **Example Queries**: Hands-on SQL queries with explanations\n",
    "- **Performance Considerations**: Tips on optimising queries for better performance\n",
    "\n",
    "## How to Use This Notebook\n",
    "- Run each cell sequentially to execute SQL queries\n",
    "- Modify the example queries to experiment with different joins and subqueries\n",
    "- Review the explanations to understand the logic behind each query\n",
    "- Use the provided dataset or connect to your own database for practice\n",
    "\n"
   ]
  },
  {
   "cell_type": "code",
   "execution_count": 2,
   "metadata": {},
   "outputs": [],
   "source": [
    "%load_ext sql\n",
    "\n",
    "%sql postgresql+psycopg2://localhost:5432/intro_to_sql_for_analytics"
   ]
  },
  {
   "cell_type": "markdown",
   "metadata": {},
   "source": [
    "Find all the athletes who won a medal by joining the athletes and medals tables"
   ]
  },
  {
   "cell_type": "markdown",
   "metadata": {},
   "source": []
  },
  {
   "cell_type": "code",
   "execution_count": 19,
   "metadata": {},
   "outputs": [
    {
     "name": "stdout",
     "output_type": "stream",
     "text": [
      " * postgresql+psycopg2://localhost:5432/intro_to_sql_for_analytics\n",
      "3 rows affected.\n"
     ]
    },
    {
     "data": {
      "text/html": [
       "<table>\n",
       "    <tr>\n",
       "        <th>name</th>\n",
       "        <th>country</th>\n",
       "        <th>sport</th>\n",
       "        <th>index</th>\n",
       "        <th>name_1</th>\n",
       "        <th>country_1</th>\n",
       "        <th>countrycode</th>\n",
       "        <th>sport_1</th>\n",
       "        <th>sport_code</th>\n",
       "        <th>date_of_birth</th>\n",
       "        <th>gender</th>\n",
       "        <th>index_1</th>\n",
       "        <th>country_2</th>\n",
       "        <th>countrycode_1</th>\n",
       "        <th>name_2</th>\n",
       "        <th>sport_2</th>\n",
       "        <th>sport_short</th>\n",
       "        <th>event</th>\n",
       "        <th>medal</th>\n",
       "    </tr>\n",
       "    <tr>\n",
       "        <td>ABARZA Alberto</td>\n",
       "        <td>Chile</td>\n",
       "        <td>Swimming</td>\n",
       "        <td>1</td>\n",
       "        <td>ABARZA Alberto</td>\n",
       "        <td>Chile</td>\n",
       "        <td>CHI</td>\n",
       "        <td>Swimming</td>\n",
       "        <td>SWM</td>\n",
       "        <td>1984-12-11</td>\n",
       "        <td>Male</td>\n",
       "        <td>1156</td>\n",
       "        <td>Chile</td>\n",
       "        <td>CHI</td>\n",
       "        <td>ABARZA Alberto</td>\n",
       "        <td>Swimming</td>\n",
       "        <td>SWM</td>\n",
       "        <td>Men&#x27;s 50m Backstroke - S2</td>\n",
       "        <td>Silver Medal</td>\n",
       "    </tr>\n",
       "    <tr>\n",
       "        <td>ABARZA Alberto</td>\n",
       "        <td>Chile</td>\n",
       "        <td>Swimming</td>\n",
       "        <td>1</td>\n",
       "        <td>ABARZA Alberto</td>\n",
       "        <td>Chile</td>\n",
       "        <td>CHI</td>\n",
       "        <td>Swimming</td>\n",
       "        <td>SWM</td>\n",
       "        <td>1984-12-11</td>\n",
       "        <td>Male</td>\n",
       "        <td>1126</td>\n",
       "        <td>Chile</td>\n",
       "        <td>CHI</td>\n",
       "        <td>ABARZA Alberto</td>\n",
       "        <td>Swimming</td>\n",
       "        <td>SWM</td>\n",
       "        <td>Men&#x27;s 200m Freestyle - S2</td>\n",
       "        <td>Silver Medal</td>\n",
       "    </tr>\n",
       "    <tr>\n",
       "        <td>ABARZA Alberto</td>\n",
       "        <td>Chile</td>\n",
       "        <td>Swimming</td>\n",
       "        <td>1</td>\n",
       "        <td>ABARZA Alberto</td>\n",
       "        <td>Chile</td>\n",
       "        <td>CHI</td>\n",
       "        <td>Swimming</td>\n",
       "        <td>SWM</td>\n",
       "        <td>1984-12-11</td>\n",
       "        <td>Male</td>\n",
       "        <td>393</td>\n",
       "        <td>Chile</td>\n",
       "        <td>CHI</td>\n",
       "        <td>ABARZA Alberto</td>\n",
       "        <td>Swimming</td>\n",
       "        <td>SWM</td>\n",
       "        <td>Men&#x27;s 100m Backstroke - S2</td>\n",
       "        <td>Gold Medal</td>\n",
       "    </tr>\n",
       "</table>"
      ],
      "text/plain": [
       "[('ABARZA Alberto', 'Chile', 'Swimming', 1, 'ABARZA Alberto', 'Chile', 'CHI', 'Swimming', 'SWM', datetime.date(1984, 12, 11), 'Male', 1156, 'Chile', 'CHI', 'ABARZA Alberto', 'Swimming', 'SWM', \"Men's 50m Backstroke - S2\", 'Silver Medal'),\n",
       " ('ABARZA Alberto', 'Chile', 'Swimming', 1, 'ABARZA Alberto', 'Chile', 'CHI', 'Swimming', 'SWM', datetime.date(1984, 12, 11), 'Male', 1126, 'Chile', 'CHI', 'ABARZA Alberto', 'Swimming', 'SWM', \"Men's 200m Freestyle - S2\", 'Silver Medal'),\n",
       " ('ABARZA Alberto', 'Chile', 'Swimming', 1, 'ABARZA Alberto', 'Chile', 'CHI', 'Swimming', 'SWM', datetime.date(1984, 12, 11), 'Male', 393, 'Chile', 'CHI', 'ABARZA Alberto', 'Swimming', 'SWM', \"Men's 100m Backstroke - S2\", 'Gold Medal')]"
      ]
     },
     "execution_count": 19,
     "metadata": {},
     "output_type": "execute_result"
    }
   ],
   "source": [
    "%%sql\n",
    "\n",
    "SELECT athletes.name, athletes.country, athletes.sport, * FROM athletes INNER JOIN medals ON athletes.name = medals.name AND athletes.sport = medals.sport\n",
    "LIMIT 3\n",
    "\n"
   ]
  },
  {
   "cell_type": "code",
   "execution_count": 4,
   "metadata": {},
   "outputs": [
    {
     "name": "stdout",
     "output_type": "stream",
     "text": [
      " * postgresql+psycopg2://localhost:5432/intro_to_sql_for_analytics\n",
      "1 rows affected.\n"
     ]
    },
    {
     "data": {
      "text/html": [
       "<table>\n",
       "    <tr>\n",
       "        <th>count</th>\n",
       "    </tr>\n",
       "    <tr>\n",
       "        <td>2142</td>\n",
       "    </tr>\n",
       "</table>"
      ],
      "text/plain": [
       "[(2142,)]"
      ]
     },
     "execution_count": 4,
     "metadata": {},
     "output_type": "execute_result"
    }
   ],
   "source": [
    "%%sql\n",
    "\n",
    "SELECT COUNT(*) FROM medals"
   ]
  },
  {
   "cell_type": "markdown",
   "metadata": {},
   "source": [
    "Who was the oldest medal winner?"
   ]
  },
  {
   "cell_type": "code",
   "execution_count": 5,
   "metadata": {},
   "outputs": [
    {
     "name": "stdout",
     "output_type": "stream",
     "text": [
      " * postgresql+psycopg2://localhost:5432/intro_to_sql_for_analytics\n",
      "1 rows affected.\n"
     ]
    },
    {
     "data": {
      "text/html": [
       "<table>\n",
       "    <tr>\n",
       "        <th>index</th>\n",
       "        <th>name</th>\n",
       "        <th>country</th>\n",
       "        <th>countrycode</th>\n",
       "        <th>sport</th>\n",
       "        <th>sport_code</th>\n",
       "        <th>date_of_birth</th>\n",
       "        <th>gender</th>\n",
       "        <th>index_1</th>\n",
       "        <th>country_1</th>\n",
       "        <th>countrycode_1</th>\n",
       "        <th>name_1</th>\n",
       "        <th>sport_1</th>\n",
       "        <th>sport_short</th>\n",
       "        <th>event</th>\n",
       "        <th>medal</th>\n",
       "    </tr>\n",
       "    <tr>\n",
       "        <td>1266</td>\n",
       "        <td>FREI Heinz</td>\n",
       "        <td>Switzerland</td>\n",
       "        <td>SUI</td>\n",
       "        <td>Cycling Road</td>\n",
       "        <td>CRD</td>\n",
       "        <td>1958-01-28</td>\n",
       "        <td>Male</td>\n",
       "        <td>923</td>\n",
       "        <td>Switzerland</td>\n",
       "        <td>SUI</td>\n",
       "        <td>FREI Heinz</td>\n",
       "        <td>Cycling Road</td>\n",
       "        <td>CRD</td>\n",
       "        <td>Men&#x27;s H3 Road Race</td>\n",
       "        <td>Silver Medal</td>\n",
       "    </tr>\n",
       "</table>"
      ],
      "text/plain": [
       "[(1266, 'FREI Heinz', 'Switzerland', 'SUI', 'Cycling Road', 'CRD', datetime.date(1958, 1, 28), 'Male', 923, 'Switzerland', 'SUI', 'FREI Heinz', 'Cycling Road', 'CRD', \"Men's H3 Road Race\", 'Silver Medal')]"
      ]
     },
     "execution_count": 5,
     "metadata": {},
     "output_type": "execute_result"
    }
   ],
   "source": [
    "%%sql\n",
    "\n",
    "-- Who was the oldest medal winner?\n",
    "\n",
    "\n",
    "SELECT * FROM athletes \n",
    "RIGHT JOIN medals \n",
    "ON athletes.name = medals.name \n",
    "AND athletes.sport = medals.sport\n",
    "ORDER BY date_of_birth\n",
    "LIMIT 1"
   ]
  },
  {
   "cell_type": "markdown",
   "metadata": {},
   "source": [
    "Who was the youngest medal winner?"
   ]
  },
  {
   "cell_type": "code",
   "execution_count": 6,
   "metadata": {},
   "outputs": [
    {
     "name": "stdout",
     "output_type": "stream",
     "text": [
      " * postgresql+psycopg2://localhost:5432/intro_to_sql_for_analytics\n",
      "1 rows affected.\n"
     ]
    },
    {
     "data": {
      "text/html": [
       "<table>\n",
       "    <tr>\n",
       "        <th>index</th>\n",
       "        <th>name</th>\n",
       "        <th>country</th>\n",
       "        <th>countrycode</th>\n",
       "        <th>sport</th>\n",
       "        <th>sport_code</th>\n",
       "        <th>date_of_birth</th>\n",
       "        <th>gender</th>\n",
       "        <th>index_1</th>\n",
       "        <th>country_1</th>\n",
       "        <th>countrycode_1</th>\n",
       "        <th>name_1</th>\n",
       "        <th>sport_1</th>\n",
       "        <th>sport_short</th>\n",
       "        <th>event</th>\n",
       "        <th>medal</th>\n",
       "    </tr>\n",
       "    <tr>\n",
       "        <td>4346</td>\n",
       "        <td>YAMADA Miyuki</td>\n",
       "        <td>Japan</td>\n",
       "        <td>JPN</td>\n",
       "        <td>Swimming</td>\n",
       "        <td>SWM</td>\n",
       "        <td>2006-09-15</td>\n",
       "        <td>Female</td>\n",
       "        <td>1173</td>\n",
       "        <td>Japan</td>\n",
       "        <td>JPN</td>\n",
       "        <td>YAMADA Miyuki</td>\n",
       "        <td>Swimming</td>\n",
       "        <td>SWM</td>\n",
       "        <td>Women&#x27;s 100m Backstroke - S2</td>\n",
       "        <td>Silver Medal</td>\n",
       "    </tr>\n",
       "</table>"
      ],
      "text/plain": [
       "[(4346, 'YAMADA Miyuki', 'Japan', 'JPN', 'Swimming', 'SWM', datetime.date(2006, 9, 15), 'Female', 1173, 'Japan', 'JPN', 'YAMADA Miyuki', 'Swimming', 'SWM', \"Women's 100m Backstroke - S2\", 'Silver Medal')]"
      ]
     },
     "execution_count": 6,
     "metadata": {},
     "output_type": "execute_result"
    }
   ],
   "source": [
    "%%sql\n",
    "\n",
    "SELECT * FROM athletes \n",
    "RIGHT JOIN medals \n",
    "ON athletes.name = medals.name \n",
    "AND athletes.sport = medals.sport\n",
    "ORDER BY date_of_birth DESC\n",
    "LIMIT 1"
   ]
  },
  {
   "cell_type": "markdown",
   "metadata": {},
   "source": [
    "Use a SELF JOIN to find athletes that share a birthday"
   ]
  },
  {
   "cell_type": "code",
   "execution_count": null,
   "metadata": {},
   "outputs": [
    {
     "name": "stdout",
     "output_type": "stream",
     "text": [
      " * postgresql+psycopg2://localhost:5432/intro_to_sql_for_analytics\n",
      "4 rows affected.\n"
     ]
    },
    {
     "data": {
      "text/html": [
       "<table>\n",
       "    <tr>\n",
       "        <th>athlete_1</th>\n",
       "        <th>athlete_2</th>\n",
       "    </tr>\n",
       "    <tr>\n",
       "        <td>ABARZA Alberto</td>\n",
       "        <td>CARDOSO da SILVA Luis Carlos</td>\n",
       "    </tr>\n",
       "    <tr>\n",
       "        <td>ABDELALI Samiha</td>\n",
       "        <td>PEREIRA Pamela</td>\n",
       "    </tr>\n",
       "    <tr>\n",
       "        <td>ABDELHADY Hany</td>\n",
       "        <td>KRUTOVA Elena</td>\n",
       "    </tr>\n",
       "    <tr>\n",
       "        <td>ABDELSHAFI Malak</td>\n",
       "        <td>JENKINS Mikaela</td>\n",
       "    </tr>\n",
       "</table>"
      ],
      "text/plain": [
       "[('ABARZA Alberto', 'CARDOSO da SILVA Luis Carlos'),\n",
       " ('ABDELALI Samiha', 'PEREIRA Pamela'),\n",
       " ('ABDELHADY Hany', 'KRUTOVA Elena'),\n",
       " ('ABDELSHAFI Malak', 'JENKINS Mikaela')]"
      ]
     },
     "execution_count": 20,
     "metadata": {},
     "output_type": "execute_result"
    }
   ],
   "source": [
    "%%sql\n",
    "\n",
    "-- Atempt 1: find two athletes that share a birthday\n",
    "\n",
    "SELECT DISTINCT alias_a.name athlete_1, alias_b.name athlete_2\n",
    "FROM athletes alias_a \n",
    "INNER JOIN athletes AS alias_b \n",
    "ON alias_a.date_of_birth = alias_b.date_of_birth\n",
    "AND alias_a.name < alias_b.name\n",
    "ORDER BY athlete_1\n",
    "LIMIT 4\n"
   ]
  },
  {
   "cell_type": "code",
   "execution_count": null,
   "metadata": {},
   "outputs": [
    {
     "name": "stdout",
     "output_type": "stream",
     "text": [
      " * postgresql+psycopg2://localhost:5432/intro_to_sql_for_analytics\n",
      "3 rows affected.\n"
     ]
    },
    {
     "data": {
      "text/html": [
       "<table>\n",
       "    <tr>\n",
       "        <th>date_of_birth</th>\n",
       "        <th>num_athletes</th>\n",
       "    </tr>\n",
       "    <tr>\n",
       "        <td>1999-02-05</td>\n",
       "        <td>5</td>\n",
       "    </tr>\n",
       "    <tr>\n",
       "        <td>1995-10-11</td>\n",
       "        <td>5</td>\n",
       "    </tr>\n",
       "    <tr>\n",
       "        <td>1989-10-05</td>\n",
       "        <td>4</td>\n",
       "    </tr>\n",
       "</table>"
      ],
      "text/plain": [
       "[(datetime.date(1999, 2, 5), 5),\n",
       " (datetime.date(1995, 10, 11), 5),\n",
       " (datetime.date(1989, 10, 5), 4)]"
      ]
     },
     "execution_count": 8,
     "metadata": {},
     "output_type": "execute_result"
    }
   ],
   "source": [
    "%%sql\n",
    "\n",
    "--Attempt 2: find the number of athletes that have birthdays on each day\n",
    "\n",
    "SELECT date_of_birth, COUNT(*) AS num_athletes\n",
    "FROM athletes\n",
    "GROUP BY date_of_birth\n",
    "HAVING COUNT(*) > 1\n",
    "ORDER BY num_athletes DESC\n",
    "LIMIT 3\n",
    "\n"
   ]
  },
  {
   "cell_type": "code",
   "execution_count": null,
   "metadata": {},
   "outputs": [
    {
     "name": "stdout",
     "output_type": "stream",
     "text": [
      " * postgresql+psycopg2://localhost:5432/intro_to_sql_for_analytics\n",
      "3 rows affected.\n"
     ]
    },
    {
     "data": {
      "text/html": [
       "<table>\n",
       "    <tr>\n",
       "        <th>shared_birthday</th>\n",
       "        <th>athletes</th>\n",
       "    </tr>\n",
       "    <tr>\n",
       "        <td>1964-07-05</td>\n",
       "        <td>SIM Jae Yong, CHEBANIKA Raisa</td>\n",
       "    </tr>\n",
       "    <tr>\n",
       "        <td>1966-10-21</td>\n",
       "        <td>GARRIDO MARQUEZ Victor Hugo, GARRIDO MARQUEZ Victor Hugo</td>\n",
       "    </tr>\n",
       "    <tr>\n",
       "        <td>1967-10-12</td>\n",
       "        <td>SCHNARNDORF Susana, PILLE-STEPPAT Sylvia</td>\n",
       "    </tr>\n",
       "</table>"
      ],
      "text/plain": [
       "[(datetime.date(1964, 7, 5), 'SIM Jae Yong, CHEBANIKA Raisa'),\n",
       " (datetime.date(1966, 10, 21), 'GARRIDO MARQUEZ Victor Hugo, GARRIDO MARQUEZ Victor Hugo'),\n",
       " (datetime.date(1967, 10, 12), 'SCHNARNDORF Susana, PILLE-STEPPAT Sylvia')]"
      ]
     },
     "execution_count": 9,
     "metadata": {},
     "output_type": "execute_result"
    }
   ],
   "source": [
    "%%sql \n",
    "\n",
    "-- Attempt 3: build a list of all athletes that share a birthday\n",
    "\n",
    "SELECT date_of_birth AS shared_birthday, \n",
    "       STRING_AGG(name, ', ') AS athletes\n",
    "FROM athletes\n",
    "GROUP BY date_of_birth\n",
    "HAVING COUNT(*) > 1\n",
    "LIMIT 3\n"
   ]
  },
  {
   "cell_type": "markdown",
   "metadata": {},
   "source": [
    "Write a query that generates a table like this...\n",
    "\n",
    "COLUMNS: \n",
    "country\tathlete_count\tmedal_count\tmedals_per_athlete\n",
    "\n",
    "ROWS:\n",
    "People's Republic of China\t256\t276\t1.08\n",
    "Netherlands\t74\t77\t1.04\n",
    "Italy\t114\t91\t0.80\n",
    "Ukraine\t139\t108\t0.78\n",
    "Great Britain\t221\t171\t0.77"
   ]
  },
  {
   "cell_type": "code",
   "execution_count": 22,
   "metadata": {},
   "outputs": [
    {
     "name": "stdout",
     "output_type": "stream",
     "text": [
      " * postgresql+psycopg2://localhost:5432/intro_to_sql_for_analytics\n",
      "3 rows affected.\n"
     ]
    },
    {
     "data": {
      "text/html": [
       "<table>\n",
       "    <tr>\n",
       "        <th>country</th>\n",
       "        <th>athlete_count</th>\n",
       "        <th>medal_count</th>\n",
       "        <th>medals_per_athlete</th>\n",
       "    </tr>\n",
       "    <tr>\n",
       "        <td>People&#x27;s Republic of China</td>\n",
       "        <td>256</td>\n",
       "        <td>276</td>\n",
       "        <td>1.08</td>\n",
       "    </tr>\n",
       "    <tr>\n",
       "        <td>Netherlands</td>\n",
       "        <td>74</td>\n",
       "        <td>77</td>\n",
       "        <td>1.04</td>\n",
       "    </tr>\n",
       "    <tr>\n",
       "        <td>Italy</td>\n",
       "        <td>114</td>\n",
       "        <td>91</td>\n",
       "        <td>0.80</td>\n",
       "    </tr>\n",
       "</table>"
      ],
      "text/plain": [
       "[(\"People's Republic of China\", 256, 276, Decimal('1.08')),\n",
       " ('Netherlands', 74, 77, Decimal('1.04')),\n",
       " ('Italy', 114, 91, Decimal('0.80'))]"
      ]
     },
     "execution_count": 22,
     "metadata": {},
     "output_type": "execute_result"
    }
   ],
   "source": [
    "%%sql\n",
    "\n",
    "SELECT a.country, a.athlete_count, m.medal_count, ROUND(1.0 * m.medal_count / a.athlete_count, 2) AS medals_per_athlete\n",
    "FROM\n",
    "(\n",
    "SELECT country, COUNT(*) AS athlete_count\n",
    "FROM athletes\n",
    "GROUP BY country\n",
    ") as a\n",
    "JOIN\n",
    "(\n",
    "SELECT country, COUNT(*) AS medal_count\n",
    "FROM medals\n",
    "GROUP BY country\n",
    ") as m\n",
    "ON a.country = m.country\n",
    "ORDER BY medals_per_athlete DESC\n",
    "LIMIT 3\n"
   ]
  },
  {
   "cell_type": "code",
   "execution_count": 12,
   "metadata": {},
   "outputs": [
    {
     "name": "stdout",
     "output_type": "stream",
     "text": [
      " * postgresql+psycopg2://localhost:5432/intro_to_sql_for_analytics\n",
      "3 rows affected.\n"
     ]
    },
    {
     "data": {
      "text/html": [
       "<table>\n",
       "    <tr>\n",
       "        <th>name</th>\n",
       "        <th>sport</th>\n",
       "        <th>age</th>\n",
       "    </tr>\n",
       "    <tr>\n",
       "        <td>AAJIM Munkhbat</td>\n",
       "        <td>Judo</td>\n",
       "        <td>36.0</td>\n",
       "    </tr>\n",
       "    <tr>\n",
       "        <td>ABARZA Alberto</td>\n",
       "        <td>Swimming</td>\n",
       "        <td>41.0</td>\n",
       "    </tr>\n",
       "    <tr>\n",
       "        <td>ABASLI Namig</td>\n",
       "        <td>Judo</td>\n",
       "        <td>28.0</td>\n",
       "    </tr>\n",
       "</table>"
      ],
      "text/plain": [
       "[('AAJIM Munkhbat', 'Judo', 36.0),\n",
       " ('ABARZA Alberto', 'Swimming', 41.0),\n",
       " ('ABASLI Namig', 'Judo', 28.0)]"
      ]
     },
     "execution_count": 12,
     "metadata": {},
     "output_type": "execute_result"
    }
   ],
   "source": [
    "%%sql \n",
    "\n",
    "SELECT name, sport,\n",
    "DATE_PART('year', CURRENT_DATE) - DATE_PART('year', date_of_birth) as age\n",
    "FROM athletes\n",
    "LIMIT 3"
   ]
  },
  {
   "cell_type": "markdown",
   "metadata": {},
   "source": [
    "Temu wanted to write a query that generates a table showing the number of athletes and gold medals for each country. Their code is below - it doesn't work as intended."
   ]
  },
  {
   "cell_type": "code",
   "execution_count": 13,
   "metadata": {},
   "outputs": [
    {
     "name": "stdout",
     "output_type": "stream",
     "text": [
      " * postgresql+psycopg2://localhost:5432/intro_to_sql_for_analytics\n",
      "3 rows affected.\n"
     ]
    },
    {
     "data": {
      "text/html": [
       "<table>\n",
       "    <tr>\n",
       "        <th>country</th>\n",
       "        <th>gold_medals</th>\n",
       "        <th>athletes</th>\n",
       "    </tr>\n",
       "    <tr>\n",
       "        <td>Indonesia</td>\n",
       "        <td>4</td>\n",
       "        <td>23</td>\n",
       "    </tr>\n",
       "    <tr>\n",
       "        <td>Venezuela</td>\n",
       "        <td>3</td>\n",
       "        <td>27</td>\n",
       "    </tr>\n",
       "    <tr>\n",
       "        <td>Czech Republic</td>\n",
       "        <td>2</td>\n",
       "        <td>29</td>\n",
       "    </tr>\n",
       "</table>"
      ],
      "text/plain": [
       "[('Indonesia', 4, 23), ('Venezuela', 3, 27), ('Czech Republic', 2, 29)]"
      ]
     },
     "execution_count": 13,
     "metadata": {},
     "output_type": "execute_result"
    }
   ],
   "source": [
    "%%sql\n",
    "\n",
    "-- medals should be gold_medals in line 1\n",
    "-- country in the medals_sub table should be matched with country in athletes_sub table, not countrycode\n",
    "\n",
    "\n",
    "-- Corrected implementation:\n",
    "\n",
    "SELECT medals_sub.country, medals_sub.gold_medals, athletes_sub.athletes \n",
    "FROM (\n",
    "    SELECT COUNT(*) as gold_medals, country\n",
    "    FROM medals\n",
    "    WHERE medal='Gold Medal'\n",
    "    GROUP BY country\n",
    ") medals_sub\n",
    "INNER JOIN (\n",
    "    SELECT COUNT(*) as athletes, country \n",
    "    FROM athletes \n",
    "    GROUP BY country\n",
    ") athletes_sub\n",
    "ON medals_sub.country = athletes_sub.country\n",
    "LIMIT 3"
   ]
  },
  {
   "cell_type": "markdown",
   "metadata": {},
   "source": [
    "Paula wanted to write a query that generates a table showing the average age of competitors winning each medal - gold, silver or bronze. Her query is below - does it work as intended? HINT: The answer is no :)\n",
    "\n",
    "Outcome: columns - gold, silver bronze, rows - average age of winner\n",
    "\n"
   ]
  },
  {
   "cell_type": "code",
   "execution_count": 14,
   "metadata": {},
   "outputs": [
    {
     "name": "stdout",
     "output_type": "stream",
     "text": [
      " * postgresql+psycopg2://localhost:5432/intro_to_sql_for_analytics\n",
      "3 rows affected.\n"
     ]
    },
    {
     "data": {
      "text/html": [
       "<table>\n",
       "    <tr>\n",
       "        <th>medal</th>\n",
       "        <th>average_age</th>\n",
       "    </tr>\n",
       "    <tr>\n",
       "        <td>Gold Medal</td>\n",
       "        <td>33.955516014234874</td>\n",
       "    </tr>\n",
       "    <tr>\n",
       "        <td>Bronze Medal</td>\n",
       "        <td>35.2034632034632</td>\n",
       "    </tr>\n",
       "    <tr>\n",
       "        <td>Silver Medal</td>\n",
       "        <td>34.689542483660134</td>\n",
       "    </tr>\n",
       "</table>"
      ],
      "text/plain": [
       "[('Gold Medal', 33.955516014234874),\n",
       " ('Bronze Medal', 35.2034632034632),\n",
       " ('Silver Medal', 34.689542483660134)]"
      ]
     },
     "execution_count": 14,
     "metadata": {},
     "output_type": "execute_result"
    }
   ],
   "source": [
    "%%sql\n",
    "\n",
    "SELECT subquery_result.medal, (SUM(subquery_result.age)/COUNT(subquery_result.age)) as average_age\n",
    "FROM (\n",
    "  SELECT DISTINCT ON (athletes.name, medals.medal)\n",
    "    medals.medal,\n",
    "    DATE_PART('year', CURRENT_DATE) - DATE_PART('year', athletes.date_of_birth) as age\n",
    "    FROM athletes INNER JOIN medals\n",
    "    ON athletes.name = medals.name\n",
    ") subquery_result\n",
    "GROUP BY medal;"
   ]
  },
  {
   "cell_type": "code",
   "execution_count": 15,
   "metadata": {},
   "outputs": [
    {
     "name": "stdout",
     "output_type": "stream",
     "text": [
      " * postgresql+psycopg2://localhost:5432/intro_to_sql_for_analytics\n",
      "1 rows affected.\n"
     ]
    },
    {
     "data": {
      "text/html": [
       "<table>\n",
       "    <tr>\n",
       "        <th>average_age</th>\n",
       "    </tr>\n",
       "    <tr>\n",
       "        <td>33.96092362344583</td>\n",
       "    </tr>\n",
       "</table>"
      ],
      "text/plain": [
       "[(33.96092362344583,)]"
      ]
     },
     "execution_count": 15,
     "metadata": {},
     "output_type": "execute_result"
    }
   ],
   "source": [
    "%%sql\n",
    "\n",
    "\n",
    "SELECT (SUM(age) / COUNT(age)) average_age\n",
    "FROM (\n",
    "SELECT DISTINCT athletes.name, DATE_PART('year', CURRENT_DATE) - DATE_PART ('year', athletes.date_of_birth) AS age, medals.medal FROM athletes\n",
    "INNER JOIN medals\n",
    "ON athletes.name = medals.name\n",
    "WHERE medal = 'Gold Medal'\n",
    ") gold_medals\n",
    "GROUP BY medal;\n",
    " "
   ]
  }
 ],
 "metadata": {
  "kernelspec": {
   "display_name": "sql_for_data_venv",
   "language": "python",
   "name": "python3"
  },
  "language_info": {
   "codemirror_mode": {
    "name": "ipython",
    "version": 3
   },
   "file_extension": ".py",
   "mimetype": "text/x-python",
   "name": "python",
   "nbconvert_exporter": "python",
   "pygments_lexer": "ipython3",
   "version": "3.11.2"
  }
 },
 "nbformat": 4,
 "nbformat_minor": 2
}
